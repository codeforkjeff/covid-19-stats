{
 "cells": [
  {
   "cell_type": "markdown",
   "metadata": {},
   "source": [
    "# Exploratory Stuff"
   ]
  },
  {
   "cell_type": "code",
   "execution_count": 1,
   "metadata": {},
   "outputs": [],
   "source": [
    "# init\n",
    "\n",
    "import pandas as pd\n",
    "import pandas.io.sql as psql\n",
    "\n",
    "from covid19stats import *\n",
    "\n",
    "conn = get_db_conn()"
   ]
  },
  {
   "cell_type": "code",
   "execution_count": 2,
   "metadata": {},
   "outputs": [
    {
     "name": "stdout",
     "output_type": "stream",
     "text": [
      "N=5798\n"
     ]
    },
    {
     "data": {
      "text/html": [
       "<div>\n",
       "<style scoped>\n",
       "    .dataframe tbody tr th:only-of-type {\n",
       "        vertical-align: middle;\n",
       "    }\n",
       "\n",
       "    .dataframe tbody tr th {\n",
       "        vertical-align: top;\n",
       "    }\n",
       "\n",
       "    .dataframe thead th {\n",
       "        text-align: right;\n",
       "    }\n",
       "</style>\n",
       "<table border=\"1\" class=\"dataframe\">\n",
       "  <thead>\n",
       "    <tr style=\"text-align: right;\">\n",
       "      <th></th>\n",
       "      <th>Confirmed</th>\n",
       "      <th>Deaths</th>\n",
       "    </tr>\n",
       "  </thead>\n",
       "  <tbody>\n",
       "    <tr>\n",
       "      <th>Confirmed</th>\n",
       "      <td>1.000000</td>\n",
       "      <td>0.961202</td>\n",
       "    </tr>\n",
       "    <tr>\n",
       "      <th>Deaths</th>\n",
       "      <td>0.961202</td>\n",
       "      <td>1.000000</td>\n",
       "    </tr>\n",
       "  </tbody>\n",
       "</table>\n",
       "</div>"
      ],
      "text/plain": [
       "           Confirmed    Deaths\n",
       "Confirmed   1.000000  0.961202\n",
       "Deaths      0.961202  1.000000"
      ]
     },
     "execution_count": 2,
     "metadata": {},
     "output_type": "execute_result"
    }
   ],
   "source": [
    "# sanity check: is this thing on?\n",
    "# of course confirmed cases will be highly correlated with deaths, duh\n",
    "\n",
    "sql = \"\"\"\n",
    "SELECT\n",
    "    Confirmed,\n",
    "    Deaths\n",
    "FROM fact_counties_ranked cr\n",
    "WHERE\n",
    "    Date = '20200501';\n",
    "\"\"\"\n",
    "\n",
    "df = psql.read_sql(sql, conn)\n",
    "print(f\"N={df.size}\")\n",
    "\n",
    "df.corr()"
   ]
  },
  {
   "cell_type": "code",
   "execution_count": 3,
   "metadata": {},
   "outputs": [
    {
     "name": "stdout",
     "output_type": "stream",
     "text": [
      "N=5688\n"
     ]
    },
    {
     "data": {
      "text/html": [
       "<div>\n",
       "<style scoped>\n",
       "    .dataframe tbody tr th:only-of-type {\n",
       "        vertical-align: middle;\n",
       "    }\n",
       "\n",
       "    .dataframe tbody tr th {\n",
       "        vertical-align: top;\n",
       "    }\n",
       "\n",
       "    .dataframe thead th {\n",
       "        text-align: right;\n",
       "    }\n",
       "</style>\n",
       "<table border=\"1\" class=\"dataframe\">\n",
       "  <thead>\n",
       "    <tr style=\"text-align: right;\">\n",
       "      <th></th>\n",
       "      <th>Confirmed</th>\n",
       "      <th>Population</th>\n",
       "    </tr>\n",
       "  </thead>\n",
       "  <tbody>\n",
       "    <tr>\n",
       "      <th>Confirmed</th>\n",
       "      <td>1.0000</td>\n",
       "      <td>0.6319</td>\n",
       "    </tr>\n",
       "    <tr>\n",
       "      <th>Population</th>\n",
       "      <td>0.6319</td>\n",
       "      <td>1.0000</td>\n",
       "    </tr>\n",
       "  </tbody>\n",
       "</table>\n",
       "</div>"
      ],
      "text/plain": [
       "            Confirmed  Population\n",
       "Confirmed      1.0000      0.6319\n",
       "Population     0.6319      1.0000"
      ]
     },
     "execution_count": 3,
     "metadata": {},
     "output_type": "execute_result"
    }
   ],
   "source": [
    "# is there a correlation with population size?\n",
    "# we'd expect so, since outbreaks began in large cities.\n",
    "# correlation probably decreases over time\n",
    "\n",
    "sql = \"\"\"\n",
    "SELECT\n",
    "    Confirmed,\n",
    "    Population\n",
    "FROM fact_counties_ranked cr\n",
    "JOIN dim_county c\n",
    "    ON cr.FIPS = c.FIPS\n",
    "WHERE\n",
    "    Date = '20200501'\n",
    "    AND Population > 0\n",
    "    AND Confirmed >= 0;\n",
    "\"\"\"\n",
    "\n",
    "df = psql.read_sql(sql, conn)\n",
    "print(f\"N={df.size}\")\n",
    "\n",
    "df.corr()"
   ]
  },
  {
   "cell_type": "code",
   "execution_count": 4,
   "metadata": {},
   "outputs": [
    {
     "name": "stdout",
     "output_type": "stream",
     "text": [
      "N=5386\n"
     ]
    },
    {
     "data": {
      "text/html": [
       "<div>\n",
       "<style scoped>\n",
       "    .dataframe tbody tr th:only-of-type {\n",
       "        vertical-align: middle;\n",
       "    }\n",
       "\n",
       "    .dataframe tbody tr th {\n",
       "        vertical-align: top;\n",
       "    }\n",
       "\n",
       "    .dataframe thead th {\n",
       "        text-align: right;\n",
       "    }\n",
       "</style>\n",
       "<table border=\"1\" class=\"dataframe\">\n",
       "  <thead>\n",
       "    <tr style=\"text-align: right;\">\n",
       "      <th></th>\n",
       "      <th>Deaths</th>\n",
       "      <th>MedianAge</th>\n",
       "    </tr>\n",
       "  </thead>\n",
       "  <tbody>\n",
       "    <tr>\n",
       "      <th>Deaths</th>\n",
       "      <td>1.000000</td>\n",
       "      <td>-0.030504</td>\n",
       "    </tr>\n",
       "    <tr>\n",
       "      <th>MedianAge</th>\n",
       "      <td>-0.030504</td>\n",
       "      <td>1.000000</td>\n",
       "    </tr>\n",
       "  </tbody>\n",
       "</table>\n",
       "</div>"
      ],
      "text/plain": [
       "             Deaths  MedianAge\n",
       "Deaths     1.000000  -0.030504\n",
       "MedianAge -0.030504   1.000000"
      ]
     },
     "execution_count": 4,
     "metadata": {},
     "output_type": "execute_result"
    }
   ],
   "source": [
    "# no correlation with median age, which is odd\n",
    "\n",
    "sql = \"\"\"\n",
    "SELECT\n",
    "    Deaths,\n",
    "    MedianAge\n",
    "FROM fact_counties_ranked cr\n",
    "JOIN dim_county c\n",
    "    ON cr.FIPS = c.FIPS\n",
    "WHERE\n",
    "    Date = '20200501'\n",
    "    AND MedianAge > 0\n",
    "    AND Deaths >= 0;\n",
    "\"\"\"\n",
    "\n",
    "df = psql.read_sql(sql, conn)\n",
    "print(f\"N={df.size}\")\n",
    "\n",
    "df.corr()"
   ]
  },
  {
   "cell_type": "code",
   "execution_count": 5,
   "metadata": {},
   "outputs": [
    {
     "name": "stdout",
     "output_type": "stream",
     "text": [
      "N=5384\n"
     ]
    },
    {
     "data": {
      "text/html": [
       "<div>\n",
       "<style scoped>\n",
       "    .dataframe tbody tr th:only-of-type {\n",
       "        vertical-align: middle;\n",
       "    }\n",
       "\n",
       "    .dataframe tbody tr th {\n",
       "        vertical-align: top;\n",
       "    }\n",
       "\n",
       "    .dataframe thead th {\n",
       "        text-align: right;\n",
       "    }\n",
       "</style>\n",
       "<table border=\"1\" class=\"dataframe\">\n",
       "  <thead>\n",
       "    <tr style=\"text-align: right;\">\n",
       "      <th></th>\n",
       "      <th>Confirmed</th>\n",
       "      <th>MedianIncome</th>\n",
       "    </tr>\n",
       "  </thead>\n",
       "  <tbody>\n",
       "    <tr>\n",
       "      <th>Confirmed</th>\n",
       "      <td>1.000000</td>\n",
       "      <td>0.158785</td>\n",
       "    </tr>\n",
       "    <tr>\n",
       "      <th>MedianIncome</th>\n",
       "      <td>0.158785</td>\n",
       "      <td>1.000000</td>\n",
       "    </tr>\n",
       "  </tbody>\n",
       "</table>\n",
       "</div>"
      ],
      "text/plain": [
       "              Confirmed  MedianIncome\n",
       "Confirmed      1.000000      0.158785\n",
       "MedianIncome   0.158785      1.000000"
      ]
     },
     "execution_count": 5,
     "metadata": {},
     "output_type": "execute_result"
    }
   ],
   "source": [
    "# no correlation with median income\n",
    "\n",
    "sql = \"\"\"\n",
    "SELECT\n",
    "    Confirmed,\n",
    "    MedianIncome\n",
    "FROM fact_counties_ranked cr\n",
    "JOIN dim_county c\n",
    "    ON cr.FIPS = c.FIPS\n",
    "WHERE\n",
    "    Date = '20200501'\n",
    "    AND MedianIncome > 0\n",
    "    AND Confirmed >= 0;\n",
    "\"\"\"\n",
    "\n",
    "df = psql.read_sql(sql, conn)\n",
    "print(f\"N={df.size}\")\n",
    "\n",
    "df.corr()"
   ]
  },
  {
   "cell_type": "code",
   "execution_count": 6,
   "metadata": {},
   "outputs": [
    {
     "name": "stdout",
     "output_type": "stream",
     "text": [
      "N=5384\n"
     ]
    },
    {
     "data": {
      "text/html": [
       "<div>\n",
       "<style scoped>\n",
       "    .dataframe tbody tr th:only-of-type {\n",
       "        vertical-align: middle;\n",
       "    }\n",
       "\n",
       "    .dataframe tbody tr th {\n",
       "        vertical-align: top;\n",
       "    }\n",
       "\n",
       "    .dataframe thead th {\n",
       "        text-align: right;\n",
       "    }\n",
       "</style>\n",
       "<table border=\"1\" class=\"dataframe\">\n",
       "  <thead>\n",
       "    <tr style=\"text-align: right;\">\n",
       "      <th></th>\n",
       "      <th>ConfirmedPer1M</th>\n",
       "      <th>MedianIncome</th>\n",
       "    </tr>\n",
       "  </thead>\n",
       "  <tbody>\n",
       "    <tr>\n",
       "      <th>ConfirmedPer1M</th>\n",
       "      <td>1.000000</td>\n",
       "      <td>0.095941</td>\n",
       "    </tr>\n",
       "    <tr>\n",
       "      <th>MedianIncome</th>\n",
       "      <td>0.095941</td>\n",
       "      <td>1.000000</td>\n",
       "    </tr>\n",
       "  </tbody>\n",
       "</table>\n",
       "</div>"
      ],
      "text/plain": [
       "                ConfirmedPer1M  MedianIncome\n",
       "ConfirmedPer1M        1.000000      0.095941\n",
       "MedianIncome          0.095941      1.000000"
      ]
     },
     "execution_count": 6,
     "metadata": {},
     "output_type": "execute_result"
    }
   ],
   "source": [
    "# try median income again, but with ConfirmedPer1M this time.\n",
    "# it's not clear to me whether you can use counts adjusted to the pop in calculating correlation coefficient\n",
    "\n",
    "sql = \"\"\"\n",
    "SELECT\n",
    "    ConfirmedPer1M,\n",
    "    MedianIncome\n",
    "FROM fact_counties_ranked cr\n",
    "JOIN dim_county c\n",
    "    ON cr.FIPS = c.FIPS\n",
    "WHERE\n",
    "    Date = '20200501'\n",
    "    AND MedianIncome > 0\n",
    "    AND ConfirmedPer1M >= 0;\n",
    "\"\"\"\n",
    "\n",
    "df = psql.read_sql(sql, conn)\n",
    "print(f\"N={df.size}\")\n",
    "\n",
    "df.corr()"
   ]
  }
 ],
 "metadata": {
  "kernelspec": {
   "display_name": "Python 3",
   "language": "python",
   "name": "python3"
  },
  "language_info": {
   "codemirror_mode": {
    "name": "ipython",
    "version": 3
   },
   "file_extension": ".py",
   "mimetype": "text/x-python",
   "name": "python",
   "nbconvert_exporter": "python",
   "pygments_lexer": "ipython3",
   "version": "3.8.2"
  }
 },
 "nbformat": 4,
 "nbformat_minor": 4
}
